{
 "cells": [
  {
   "cell_type": "markdown",
   "id": "1269d1c3",
   "metadata": {},
   "source": [
    "Easy - Q1"
   ]
  },
  {
   "cell_type": "code",
   "execution_count": 12,
   "id": "0a022159",
   "metadata": {},
   "outputs": [
    {
     "name": "stdout",
     "output_type": "stream",
     "text": [
      "Unique Customers: 5191\n"
     ]
    }
   ],
   "source": [
    "import pandas as pd\n",
    "import matplotlib.pyplot as plt\n",
    "df_customer = pd.read_json(r'C:\\Users\\zakil\\Documents\\vscoding\\dim_customer.json')\n",
    "df_invoice = pd.read_csv(r'C:\\Users\\zakil\\Documents\\vscoding\\fct_invoice.csv')\n",
    "unique_customers = df_customer['id'].nunique()\n",
    "print('Unique Customers: ' + str(unique_customers))"
   ]
  },
  {
   "cell_type": "markdown",
   "id": "31bb9bc4",
   "metadata": {},
   "source": [
    "Easy - Q2"
   ]
  },
  {
   "cell_type": "code",
   "execution_count": 13,
   "id": "58cc8272",
   "metadata": {},
   "outputs": [
    {
     "name": "stdout",
     "output_type": "stream",
     "text": [
      "Unique Products: ['Clothing' 'Shoes' 'Books' 'Cosmetics' 'Food & Beverage' 'Toys'\n",
      " 'Technology' 'Souvenir']\n",
      "Number of Unique Products 8\n"
     ]
    }
   ],
   "source": [
    "df_customer = pd.read_json(r'C:\\Users\\zakil\\Documents\\vscoding\\dim_customer.json')\n",
    "df_invoice = pd.read_csv(r'C:\\Users\\zakil\\Documents\\vscoding\\fct_invoice.csv')\n",
    "unique_products = df_invoice['category'].unique()\n",
    "number_unique_products = df_invoice['category'].nunique() \n",
    "print('Unique Products: ' + str(unique_products))\n",
    "print('Number of Unique Products ' + str(number_unique_products))"
   ]
  },
  {
   "cell_type": "markdown",
   "id": "b8d195bd",
   "metadata": {},
   "source": [
    "Easy - Q3"
   ]
  },
  {
   "cell_type": "code",
   "execution_count": 14,
   "id": "6483108c",
   "metadata": {},
   "outputs": [
    {
     "name": "stdout",
     "output_type": "stream",
     "text": [
      "The most popular payment method was: Cash\n",
      "This payment method was used 44447 times\n"
     ]
    }
   ],
   "source": [
    "df_customer = pd.read_json(r'C:\\Users\\zakil\\Documents\\vscoding\\dim_customer.json')\n",
    "df_invoice = pd.read_csv(r'C:\\Users\\zakil\\Documents\\vscoding\\fct_invoice.csv')\n",
    "payment_counts = df_invoice['payment_method'].value_counts()\n",
    "payment_counts = payment_counts.sort_values(ascending=False)\n",
    "print('The most popular payment method was: ' + str(payment_counts.index[0]))\n",
    "print('This payment method was used ' + str(payment_counts.iloc[0]) + ' times')"
   ]
  },
  {
   "cell_type": "markdown",
   "id": "2c453c66",
   "metadata": {},
   "source": [
    "Medium - Q1"
   ]
  },
  {
   "cell_type": "code",
   "execution_count": 15,
   "id": "8e3150ab",
   "metadata": {},
   "outputs": [
    {
     "name": "stdout",
     "output_type": "stream",
     "text": [
      "The 3 highest selling categories in order are: \n",
      "Clothing - 103558\n",
      "Cosmetics - 45465\n",
      "Food & Beverage - 44277\n"
     ]
    }
   ],
   "source": [
    "df_customer = pd.read_json(r'C:\\Users\\zakil\\Documents\\vscoding\\dim_customer.json')\n",
    "df_invoice = pd.read_csv(r'C:\\Users\\zakil\\Documents\\vscoding\\fct_invoice.csv')\n",
    "category_sales = df_invoice.groupby('category')['quantity'].sum()\n",
    "category_sales = category_sales.sort_values(ascending=False)\n",
    "top_sales = category_sales.head(3)\n",
    "print('The 3 highest selling categories in order are: ')\n",
    "for category, sales in top_sales.items():\n",
    "    print(category, \"-\", sales)"
   ]
  },
  {
   "cell_type": "markdown",
   "id": "4ef830ef",
   "metadata": {},
   "source": [
    "Medium - Q2"
   ]
  },
  {
   "cell_type": "code",
   "execution_count": 16,
   "id": "7f03df16",
   "metadata": {},
   "outputs": [
    {
     "name": "stdout",
     "output_type": "stream",
     "text": [
      "97629\n"
     ]
    }
   ],
   "source": [
    "df_customer = pd.read_json(r'C:\\Users\\zakil\\Documents\\vscoding\\dim_customer.json')\n",
    "df_invoice = pd.read_csv(r'C:\\Users\\zakil\\Documents\\vscoding\\fct_invoice.csv')\n",
    "df_customer = df_customer[['id', 'age']]\n",
    "df_invoice = df_invoice[['customer_id', 'quantity']]\n",
    "df_customer = df_customer.rename({'id': 'customer_id'}, axis='columns')\n",
    "newdf = df_customer.merge(df_invoice, how='right')\n",
    "fortyfive = newdf['age'] > 45\n",
    "newdf = newdf[fortyfive]\n",
    "sales_sum = newdf['quantity'].sum()\n",
    "print(sales_sum)"
   ]
  },
  {
   "cell_type": "markdown",
   "id": "1cd4c0f1",
   "metadata": {},
   "source": [
    "Medium - Q3"
   ]
  },
  {
   "cell_type": "code",
   "execution_count": 17,
   "id": "4193c67e",
   "metadata": {
    "scrolled": false
   },
   "outputs": [
    {
     "data": {
      "image/png": "[encoded data removed]",
      "text/plain": [
       "<Figure size 640x480 with 1 Axes>"
      ]
     },
     "metadata": {},
     "output_type": "display_data"
    },
    {
     "name": "stdout",
     "output_type": "stream",
     "text": [
      "  invoice_date  quantity\n",
      "0   2021-03-31     33045\n",
      "1   2021-06-30     34242\n",
      "2   2021-09-30     34092\n",
      "3   2021-12-31     34717\n",
      "4   2022-03-31     33816\n",
      "5   2022-06-30     34207\n",
      "6   2022-09-30     34626\n",
      "7   2022-12-31     34498\n",
      "8   2023-03-31     25469\n"
     ]
    }
   ],
   "source": [
    "import pandas as pd\n",
    "import matplotlib.pyplot as plt\n",
    "df_customer = pd.read_json(r'C:\\Users\\zakil\\Documents\\vscoding\\dim_customer.json')\n",
    "df_invoice = pd.read_csv(r'C:\\Users\\zakil\\Documents\\vscoding\\fct_invoice.csv')\n",
    "df_invoice['invoice_date'] = pd.to_datetime(df_invoice['invoice_date'], format=\"%d/%m/%Y\")\n",
    "invoices_received = df_invoice[['invoice_date', 'quantity']]\n",
    "invoices_received = invoices_received.groupby('invoice_date')['quantity'].sum()\n",
    "new_invoices = pd.DataFrame(invoices_received)\n",
    "df_monthly = new_invoices.resample('Q').sum()\n",
    "df_monthly = df_monthly.reset_index()\n",
    "date = df_monthly['invoice_date']\n",
    "inv = df_monthly['quantity']\n",
    "plt.plot(date, inv)\n",
    "plt.xlabel('Date')\n",
    "plt.ylabel('Sales')\n",
    "plt.title('Monthly Sales Trends')\n",
    "plt.show()\n",
    "print(df_monthly)"
   ]
  },
  {
   "cell_type": "markdown",
   "id": "31a653e6",
   "metadata": {},
   "source": [
    "Data Shows sum of sales at the end of every quarter, this can be swapped between monthly/quarterly/yearly by changing the 'Q' in \"df_monthly = new_invoices.resample('Q').sum()\" to 'M' or 'Y'. Trends seem to indicate that the month of February tends to exhibit a drop in sales"
   ]
  },
  {
   "cell_type": "markdown",
   "id": "9e9dac38",
   "metadata": {},
   "source": [
    "Hard - Q1"
   ]
  },
  {
   "cell_type": "code",
   "execution_count": 11,
   "id": "a3fe8171",
   "metadata": {},
   "outputs": [
    {
     "name": "stdout",
     "output_type": "stream",
     "text": [
      "decade range     10.0-19.0  20.0-29.0  30.0-39.0  40.0-49.0  50.0-59.0  \\\n",
      "category                                                                 \n",
      "Books                  229       1427       1518       1542       1364   \n",
      "Clothing              1727       9392      10247      10220       9343   \n",
      "Cosmetics              730       4060       4871       4460       3958   \n",
      "Food & Beverage        697       3906       4540       4677       3824   \n",
      "Shoes                  457       2716       3186       3148       2652   \n",
      "Souvenir               281       1304       1496       1514       1286   \n",
      "Technology             274       1359       1590       1553       1162   \n",
      "Toys                   480       2859       3217       2983       2626   \n",
      "\n",
      "decade range     60.0-69.0  70.0-79.0  80.0-89.0  \n",
      "category                                          \n",
      "Books                 1420       1019        500  \n",
      "Clothing              9700       7055       4095  \n",
      "Cosmetics             4344       2807       1752  \n",
      "Food & Beverage       4243       2862       1637  \n",
      "Shoes                 2696       2017       1180  \n",
      "Souvenir              1307        903        558  \n",
      "Technology            1457        931        522  \n",
      "Toys                  2797       2078       1201  \n"
     ]
    }
   ],
   "source": [
    "df7 = df_customer.rename(columns={'id':'customer_id'})\n",
    "df8 = df_invoice\n",
    "new_table = df7.merge(df8)\n",
    "\n",
    "new_table = new_table.dropna(axis=0)\n",
    "def decade_range(qqq):\n",
    "    return(str((qqq // 10) * 10) + '-'+ str((qqq // 10) * 10 + 9))\n",
    "\n",
    "new_table.replace(\"null\", None, inplace=True)\n",
    "\n",
    "new_table['decade range'] = new_table['age'].apply(decade_range)\n",
    "new_table = new_table[['category', 'quantity', 'decade range']]\n",
    "pivottable = pd.pivot_table(new_table, index = 'category', columns = ['decade range'], values = 'quantity', aggfunc = 'sum')\n",
    "print(pivottable)"
   ]
  }
 ],
 "metadata": {
  "kernelspec": {
   "display_name": "Python 3 (ipykernel)",
   "language": "python",
   "name": "python3"
  },
  "language_info": {
   "codemirror_mode": {
    "name": "ipython",
    "version": 3
   },
   "file_extension": ".py",
   "mimetype": "text/x-python",
   "name": "python",
   "nbconvert_exporter": "python",
   "pygments_lexer": "ipython3",
   "version": "3.10.9"
  }
 },
 "nbformat": 4,
 "nbformat_minor": 5
}
